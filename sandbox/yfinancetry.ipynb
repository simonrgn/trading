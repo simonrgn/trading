{
 "cells": [
  {
   "cell_type": "code",
   "execution_count": 1,
   "id": "0bb82ea5",
   "metadata": {},
   "outputs": [],
   "source": [
    "import yfinance as yf\n",
    "from datetime import datetime\n",
    "from src.data import implied_vol"
   ]
  },
  {
   "cell_type": "code",
   "execution_count": 2,
   "id": "b065a752",
   "metadata": {},
   "outputs": [],
   "source": [
    "tk = yf.Ticker(\"AAPL\")"
   ]
  },
  {
   "cell_type": "code",
   "execution_count": 3,
   "id": "07c2f629",
   "metadata": {},
   "outputs": [],
   "source": [
    "spot = tk.history(period=\"1d\")[\"Close\"].iloc[-1]"
   ]
  },
  {
   "cell_type": "code",
   "execution_count": 4,
   "id": "1982f3aa",
   "metadata": {},
   "outputs": [],
   "source": [
    "expirations = tk.options"
   ]
  },
  {
   "cell_type": "code",
   "execution_count": 5,
   "id": "9d155d5d",
   "metadata": {},
   "outputs": [],
   "source": [
    "r = 0.05"
   ]
  },
  {
   "cell_type": "code",
   "execution_count": 6,
   "id": "faba1eae",
   "metadata": {},
   "outputs": [],
   "source": [
    "for exp in expirations[:1]:\n",
    "    opt_chain = tk.option_chain(exp)\n",
    "    rows = []\n",
    "    for _,row in opt_chain.calls.iterrows():\n",
    "        K = row[\"strike\"]\n",
    "        T = (datetime.strptime(exp, \"%Y-%m-%d\") - datetime.now()).days / 365\n",
    "        price = row[\"lastPrice\"]\n",
    "        iv = implied_vol(spot, K, T, r,price,option_type=\"call\")\n",
    "        rows.append([\"AAPL\", \"call\", exp, K, price, iv])"
   ]
  },
  {
   "cell_type": "code",
   "execution_count": 7,
   "id": "d6d9e36d",
   "metadata": {},
   "outputs": [
    {
     "data": {
      "text/plain": [
       "[['AAPL', 'call', '2025-08-08', 110.0, 94.0, None],\n",
       " ['AAPL', 'call', '2025-08-08', 130.0, 74.08, None],\n",
       " ['AAPL', 'call', '2025-08-08', 140.0, 70.45, None],\n",
       " ['AAPL', 'call', '2025-08-08', 145.0, 62.24, None],\n",
       " ['AAPL', 'call', '2025-08-08', 150.0, 53.0, 2.4054180588575758],\n",
       " ['AAPL', 'call', '2025-08-08', 160.0, 46.8, 4.675306019530156],\n",
       " ['AAPL', 'call', '2025-08-08', 165.0, 41.24, 4.020438872398244],\n",
       " ['AAPL', 'call', '2025-08-08', 170.0, 34.15, 2.6369659248196027],\n",
       " ['AAPL', 'call', '2025-08-08', 175.0, 28.5, 1.895710757881323],\n",
       " ['AAPL', 'call', '2025-08-08', 180.0, 23.0, 1.0541456737136694],\n",
       " ['AAPL', 'call', '2025-08-08', 182.5, 21.05, 1.494347673412246],\n",
       " ['AAPL', 'call', '2025-08-08', 185.0, 18.01, 0.8624289411297883],\n",
       " ['AAPL', 'call', '2025-08-08', 187.5, 15.8, 1.0466122187145235],\n",
       " ['AAPL', 'call', '2025-08-08', 190.0, 13.1, 0.7557150860420003],\n",
       " ['AAPL', 'call', '2025-08-08', 192.5, 10.63, 0.6575104032010054],\n",
       " ['AAPL', 'call', '2025-08-08', 195.0, 8.32, 0.6369264826772149],\n",
       " ['AAPL', 'call', '2025-08-08', 197.5, 6.15, 0.6110024124426566],\n",
       " ['AAPL', 'call', '2025-08-08', 200.0, 4.3, 0.6088570181513666],\n",
       " ['AAPL', 'call', '2025-08-08', 202.5, 2.74, 0.5929852721142799],\n",
       " ['AAPL', 'call', '2025-08-08', 205.0, 1.55, 0.5729485424216301],\n",
       " ['AAPL', 'call', '2025-08-08', 207.5, 0.76, 0.5538807856199092],\n",
       " ['AAPL', 'call', '2025-08-08', 210.0, 0.35, 0.5534283766318366],\n",
       " ['AAPL', 'call', '2025-08-08', 212.5, 0.16, 0.5661748228903251],\n",
       " ['AAPL', 'call', '2025-08-08', 215.0, 0.09, 0.6057632961118183],\n",
       " ['AAPL', 'call', '2025-08-08', 217.5, 0.05, 0.6403781442328567],\n",
       " ['AAPL', 'call', '2025-08-08', 220.0, 0.02, 0.6449532128327674],\n",
       " ['AAPL', 'call', '2025-08-08', 222.5, 0.02, 0.7232453316256636],\n",
       " ['AAPL', 'call', '2025-08-08', 225.0, 0.01, 0.7408482832878964],\n",
       " ['AAPL', 'call', '2025-08-08', 227.5, 0.01, 0.8111806786511947],\n",
       " ['AAPL', 'call', '2025-08-08', 230.0, 0.02, 0.9476073015761516],\n",
       " ['AAPL', 'call', '2025-08-08', 232.5, 0.01, 0.9477445624052858],\n",
       " ['AAPL', 'call', '2025-08-08', 235.0, 0.01, 1.0141553048093668],\n",
       " ['AAPL', 'call', '2025-08-08', 237.5, 0.01, 1.0794160247550753],\n",
       " ['AAPL', 'call', '2025-08-08', 240.0, 0.01, 1.1435877142174935],\n",
       " ['AAPL', 'call', '2025-08-08', 242.5, 0.01, 1.206724079875148],\n",
       " ['AAPL', 'call', '2025-08-08', 245.0, 0.01, 1.2688729227981241],\n",
       " ['AAPL', 'call', '2025-08-08', 250.0, 0.01, 1.390375726034611],\n",
       " ['AAPL', 'call', '2025-08-08', 255.0, 0.01, 1.5083945060810149],\n",
       " ['AAPL', 'call', '2025-08-08', 260.0, 0.01, 1.6231798766374097],\n",
       " ['AAPL', 'call', '2025-08-08', 265.0, 0.01, 1.7349466668880225],\n",
       " ['AAPL', 'call', '2025-08-08', 270.0, 0.01, 1.8438820091107775],\n",
       " ['AAPL', 'call', '2025-08-08', 275.0, 0.01, 1.9501510191831606],\n",
       " ['AAPL', 'call', '2025-08-08', 280.0, 0.01, 2.0539009216429593],\n",
       " ['AAPL', 'call', '2025-08-08', 285.0, 0.01, 2.1552641309727805],\n",
       " ['AAPL', 'call', '2025-08-08', 290.0, 0.01, 2.2543606095411453],\n",
       " ['AAPL', 'call', '2025-08-08', 295.0, 0.02, 2.5003815544847305],\n",
       " ['AAPL', 'call', '2025-08-08', 300.0, 0.01, 2.44618164207261],\n",
       " ['AAPL', 'call', '2025-08-08', 315.0, 0.01, 2.7193728195750744],\n",
       " ['AAPL', 'call', '2025-08-08', 320.0, 0.01, 2.8068826407643397],\n",
       " ['AAPL', 'call', '2025-08-08', 325.0, 0.01, 2.8927341436586618]]"
      ]
     },
     "execution_count": 7,
     "metadata": {},
     "output_type": "execute_result"
    }
   ],
   "source": [
    "rows"
   ]
  }
 ],
 "metadata": {
  "kernelspec": {
   "display_name": ".venv",
   "language": "python",
   "name": "python3"
  },
  "language_info": {
   "codemirror_mode": {
    "name": "ipython",
    "version": 3
   },
   "file_extension": ".py",
   "mimetype": "text/x-python",
   "name": "python",
   "nbconvert_exporter": "python",
   "pygments_lexer": "ipython3",
   "version": "3.11.9"
  }
 },
 "nbformat": 4,
 "nbformat_minor": 5
}
